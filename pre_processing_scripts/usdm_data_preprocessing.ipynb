{
 "cells": [
  {
   "cell_type": "code",
   "execution_count": 27,
   "metadata": {},
   "outputs": [],
   "source": [
    "#############\n",
    "## Imports ##\n",
    "#############\n",
    "\n",
    "# General Use / Computation Packages\n",
    "import os\n",
    "import numpy as np\n",
    "import pandas as pd\n",
    "from math import *\n",
    "from datetime import datetime\n",
    "from tqdm import tqdm\n",
    "import warnings\n",
    "import re\n",
    "import warnings\n",
    "warnings.filterwarnings(\"ignore\")"
   ]
  },
  {
   "cell_type": "code",
   "execution_count": 28,
   "metadata": {},
   "outputs": [],
   "source": [
    "usdm = pd.read_csv('usdm_input.csv', header = 0)"
   ]
  },
  {
   "cell_type": "code",
   "execution_count": 29,
   "metadata": {},
   "outputs": [],
   "source": [
    "usdm = usdm[(usdm['year']>=2004) & (usdm['year']<=2016)]"
   ]
  },
  {
   "cell_type": "code",
   "execution_count": 30,
   "metadata": {},
   "outputs": [],
   "source": [
    "usdm['date'] = [datetime.strptime('-'.join([y, m, d]), '%Y-%m-%d')\n",
    "    for y, m, d in zip(\n",
    "        usdm['year'].astype(str),\n",
    "        usdm['month'].astype(str),\n",
    "        usdm['day'].astype(str)\n",
    "    )\n",
    "]"
   ]
  },
  {
   "cell_type": "code",
   "execution_count": 31,
   "metadata": {},
   "outputs": [],
   "source": [
    "usdm.drop(\n",
    "    columns = ['year', 'month', 'day']\n",
    ").to_csv('usdm.csv')"
   ]
  },
  {
   "cell_type": "code",
   "execution_count": null,
   "metadata": {},
   "outputs": [],
   "source": []
  }
 ],
 "metadata": {
  "kernelspec": {
   "display_name": "Python 3",
   "language": "python",
   "name": "python3"
  },
  "language_info": {
   "codemirror_mode": {
    "name": "ipython",
    "version": 3
   },
   "file_extension": ".py",
   "mimetype": "text/x-python",
   "name": "python",
   "nbconvert_exporter": "python",
   "pygments_lexer": "ipython3",
   "version": "3.10.9"
  },
  "orig_nbformat": 4,
  "vscode": {
   "interpreter": {
    "hash": "b868310b69bc70cb182f8bc140c1d0ace68fba83ff424a9f4f95651e0db85a5c"
   }
  }
 },
 "nbformat": 4,
 "nbformat_minor": 2
}
