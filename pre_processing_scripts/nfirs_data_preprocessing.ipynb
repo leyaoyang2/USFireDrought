{
 "cells": [
  {
   "cell_type": "code",
   "execution_count": 2,
   "metadata": {},
   "outputs": [],
   "source": [
    "#############\n",
    "## Imports ##\n",
    "#############\n",
    "\n",
    "# General Use / Computation Packages\n",
    "import os\n",
    "import numpy as np\n",
    "import pandas as pd\n",
    "from math import *\n",
    "from datetime import datetime\n",
    "from tqdm import tqdm\n",
    "import warnings\n",
    "import re\n",
    "import warnings\n",
    "warnings.filterwarnings(\"ignore\")"
   ]
  },
  {
   "cell_type": "code",
   "execution_count": 3,
   "metadata": {},
   "outputs": [
    {
     "name": "stderr",
     "output_type": "stream",
     "text": [
      "100%|██████████| 13/13 [05:29<00:00, 25.33s/it]\n"
     ]
    }
   ],
   "source": [
    "######################\n",
    "## Reading the Data ##\n",
    "######################\n",
    "incidents_full = pd.DataFrame() # Define full DataFrame as empty df\n",
    "fires_full = pd.DataFrame() # Define full DataFrame as empty df\n",
    "addresses_full = pd.DataFrame() # Define full DataFrame as empty df\n",
    "incidents_cols = ['STATE', 'FDID', 'INC_DATE', 'INC_NO', 'EXP_NO', 'INC_TYPE']\n",
    "fires_cols = ['STATE', 'FDID', 'INC_DATE', 'INC_NO', 'EXP_NO', 'AREA_ORIG', 'FIRST_IGN', 'CAUSE_IGN']\n",
    "addresses_cols = ['STATE', 'FDID', 'INC_DATE', 'INC_NO', 'EXP_NO', 'CITY', 'STATE_ID', 'ZIP5']\n",
    "\n",
    "for year in tqdm(np.arange(2004, 2017)): # Loop through the years (with progress bar)\n",
    "    os.chdir('./NFIRS_DATA_RAW/{}'.format('{} data'.format(year))) # Change directory to the folder where the data is stored\n",
    "    if year<2012:\n",
    "        incidents = pd.read_csv( # Read the fireincident file, separated by ^\n",
    "            'basicincident.csv',\n",
    "            usecols = incidents_cols,\n",
    "            encoding = 'latin-1',\n",
    "            low_memory = False\n",
    "        )\n",
    "        fires = pd.read_csv( # Read the fireincident file, separated by ^\n",
    "            'fireincident.csv',\n",
    "            usecols = fires_cols,\n",
    "            encoding = 'latin-1',\n",
    "            low_memory = False\n",
    "        )\n",
    "        addresses = pd.read_csv( # Read the incidentaddress file, separated by ^\n",
    "            'incidentaddress.csv',\n",
    "            usecols = addresses_cols,\n",
    "            encoding = 'latin-1',\n",
    "            low_memory = False\n",
    "        )\n",
    "    else:\n",
    "        incidents = pd.read_csv( # Read the basicincident file, separated by ^\n",
    "            'basicincident.txt',\n",
    "            usecols = incidents_cols,\n",
    "            delimiter = '^',\n",
    "            encoding=\"ISO-8859-1\",\n",
    "            low_memory = False\n",
    "        )\n",
    "        fires = pd.read_csv( # Read the fireincident file, separated by ^\n",
    "            'fireincident.txt',\n",
    "            usecols = fires_cols,\n",
    "            delimiter = '^',\n",
    "            encoding=\"ISO-8859-1\",\n",
    "            low_memory = False\n",
    "        )\n",
    "        addresses = pd.read_csv( # Read the incidentaddress file, separated by ^\n",
    "            'incidentaddress.txt',\n",
    "            usecols = addresses_cols,\n",
    "            delimiter = '^',\n",
    "            encoding=\"ISO-8859-1\",\n",
    "            low_memory = False\n",
    "        )\n",
    "    if len(incidents_full) == 0:\n",
    "        incidents_full = incidents\n",
    "    else:\n",
    "        incidents_full = incidents_full.append(incidents) # append each year to the full DataFrame\n",
    "    if len(fires_full) == 0:\n",
    "        fires_full = fires\n",
    "    else:\n",
    "        fires_full = fires_full.append(fires) # append each year to the full DataFrame\n",
    "    if len(addresses_full) == 0:\n",
    "        addresses_full = addresses\n",
    "    else:\n",
    "        addresses_full = addresses_full.append(addresses) # append each year to the full DataFrame\n",
    "    os.chdir('../../')"
   ]
  },
  {
   "cell_type": "code",
   "execution_count": 4,
   "metadata": {},
   "outputs": [],
   "source": [
    "# The unique identifier for these incident-associated records is the combination of the State, \n",
    "# fire department ID, incident date, incident number, and exposure number (STATE, FDID, INC_DATE, INC_NO, and EXP_NO)\n",
    "# NFIRS Version 5.0 Fire Data Analysis Guidelines and Issues Page 8\n",
    "# https://www.usfa.fema.gov/downloads/pdf/nfirs/nfirs_data_analysis_guidelines_issues.pdf\n",
    "id_cols = ['STATE', 'FDID', 'INC_DATE', 'INC_NO', 'EXP_NO']\n",
    "\n",
    "########################################\n",
    "## Filling NaNs, Creating a Unique ID ##\n",
    "## Not all years have INCIDENT_KEY    ##\n",
    "########################################\n",
    "\n",
    "def str2(x): # put all addresses in uppercase and remove NaN missing values\n",
    "    if str(x) == 'nan':\n",
    "        return ''\n",
    "    else:\n",
    "        return str(x).upper()\n",
    "\n",
    "# Create unique id\n",
    "incidents_full['id'] = ['_'.join([str2(a), str2(b), str2(c), str2(d), str2(e)]) for a, b, c, d, e in zip(\n",
    "    incidents_full['STATE'],\n",
    "    incidents_full['FDID'],\n",
    "    incidents_full['INC_DATE'],\n",
    "    incidents_full['INC_NO'],\n",
    "    incidents_full['EXP_NO']\n",
    "    )]\n",
    "fires_full['id'] = ['_'.join([str2(a), str2(b), str2(c), str2(d), str2(e)]) for a, b, c, d, e in zip(\n",
    "    fires_full['STATE'],\n",
    "    fires_full['FDID'],\n",
    "    fires_full['INC_DATE'],\n",
    "    fires_full['INC_NO'],\n",
    "    fires_full['EXP_NO']\n",
    "    )]\n",
    "addresses_full['id'] = ['_'.join([str2(a), str2(b), str2(c), str2(d), str2(e)]) for a, b, c, d, e in zip(\n",
    "    addresses_full['STATE'],\n",
    "    addresses_full['FDID'],\n",
    "    addresses_full['INC_DATE'],\n",
    "    addresses_full['INC_NO'],\n",
    "    addresses_full['EXP_NO']\n",
    "    )]"
   ]
  },
  {
   "cell_type": "code",
   "execution_count": null,
   "metadata": {},
   "outputs": [],
   "source": [
    "incidents_full = incidents_full[[ # filter to use only the relevant columns for merging\n",
    "    'id',\n",
    "    'INC_TYPE'\n",
    "]]\n",
    "fires_full = fires_full[[ # filter to use only the relevant columns for merging\n",
    "    'id',\n",
    "]]\n",
    "addresses_full = addresses_full[[ # filter to use only the relevant columns for merging\n",
    "    'id',\n",
    "    'INC_DATE',\n",
    "    'FDID',\n",
    "    'CITY',\n",
    "    'STATE',\n",
    "    'ZIP5'\n",
    "]]"
   ]
  },
  {
   "cell_type": "code",
   "execution_count": null,
   "metadata": {},
   "outputs": [],
   "source": [
    "fires_merged = fires_full.merge( # merge the fires, incidents and addresses together\n",
    "    incidents_full,\n",
    "    how = 'left',\n",
    "    left_on = 'id',\n",
    "    right_on = 'id'\n",
    ").merge(\n",
    "    addresses_full,\n",
    "    how = 'left',\n",
    "    left_on = 'id',\n",
    "    right_on = 'id'\n",
    ")"
   ]
  },
  {
   "cell_type": "code",
   "execution_count": 43,
   "metadata": {},
   "outputs": [],
   "source": [
    "# Conditions for a wildfire #\n",
    "# INC_TYPE\n",
    "# 14 Natural vegetation fire\n",
    "# 140 Natural vegetation fire, other.\n",
    "# 141 Forest, woods or wildland fire.\n",
    "# 142 Brush or brush-and-grass mixture fire.\n",
    "# 143 Grass fire.\n",
    "\n",
    "wildfires = fires_merged[fires_merged['INC_TYPE'].isin([14, 140, 141, 142, 143, '14', '140', '141', '142', '143'])]\n",
    "wildfires.drop_duplicates('id', inplace = True)"
   ]
  },
  {
   "cell_type": "code",
   "execution_count": 44,
   "metadata": {},
   "outputs": [],
   "source": [
    "#wildfires.head()\n",
    "#wildfires.to_csv('wildfires.csv')"
   ]
  },
  {
   "cell_type": "code",
   "execution_count": null,
   "metadata": {},
   "outputs": [],
   "source": []
  }
 ],
 "metadata": {
  "kernelspec": {
   "display_name": "Python 3",
   "language": "python",
   "name": "python3"
  },
  "language_info": {
   "codemirror_mode": {
    "name": "ipython",
    "version": 3
   },
   "file_extension": ".py",
   "mimetype": "text/x-python",
   "name": "python",
   "nbconvert_exporter": "python",
   "pygments_lexer": "ipython3",
   "version": "3.10.9 (tags/v3.10.9:1dd9be6, Dec  6 2022, 20:01:21) [MSC v.1934 64 bit (AMD64)]"
  },
  "orig_nbformat": 4,
  "vscode": {
   "interpreter": {
    "hash": "b868310b69bc70cb182f8bc140c1d0ace68fba83ff424a9f4f95651e0db85a5c"
   }
  }
 },
 "nbformat": 4,
 "nbformat_minor": 2
}
